{
 "cells": [
  {
   "cell_type": "markdown",
   "metadata": {},
   "source": [
    "# Perfect Basic Strategy\n",
    "\n",
    "This notebook creates a JSON file containing the table information of perfect basic strategy.\n",
    "\n",
    "The tables for perfect basic strategy are provided by The [Wizard of Odds](https://wizardofodds.com/games/blackjack/strategy/4-decks/)."
   ]
  },
  {
   "cell_type": "code",
   "execution_count": 1,
   "metadata": {},
   "outputs": [],
   "source": [
    "import pickle\n",
    "from collections import defaultdict"
   ]
  },
  {
   "cell_type": "code",
   "execution_count": 2,
   "metadata": {},
   "outputs": [],
   "source": [
    "ACTION_MAP = {\n",
    "    \"S\": 0, # Stand\n",
    "    \"H\": 1, # Hit\n",
    "    \"D\": 2, # Double\n",
    "    \"P\": 3, # Split\n",
    "    \"R\": 4, # Surrender\n",
    "    \"Y\": 5, # Split (if double is allowed after)\n",
    "}"
   ]
  },
  {
   "cell_type": "code",
   "execution_count": 3,
   "metadata": {},
   "outputs": [],
   "source": [
    "def read_table(filename: str):\n",
    "    table = {}\n",
    "    with open(filename) as f:\n",
    "        header = list(map(int, f.readline().split()))\n",
    "        for row in f:\n",
    "            value, *actions = row.split()\n",
    "            table[int(value)] = {header[i]: [ACTION_MAP[a] for a in actions[i]] for i in range(len(actions))}\n",
    "    return table"
   ]
  },
  {
   "cell_type": "code",
   "execution_count": 4,
   "metadata": {},
   "outputs": [],
   "source": [
    "tables = defaultdict(dict)\n",
    "for folder in (\"hit_soft_17\", \"stand_soft_17\"):\n",
    "    for file in (\"hard\", \"soft\", \"split\"):\n",
    "        tables[folder][file] = read_table(f\"{folder}/{file}.csv\")"
   ]
  },
  {
   "cell_type": "code",
   "execution_count": 5,
   "metadata": {},
   "outputs": [],
   "source": [
    "with open(\"basic_strategy.bin\", 'wb') as f:\n",
    "    pickle.dump()"
   ]
  },
  {
   "cell_type": "code",
   "execution_count": 7,
   "metadata": {},
   "outputs": [
    {
     "name": "stdout",
     "output_type": "stream",
     "text": [
      "{2: {2: [5, 1], 3: [5, 1], 4: [3], 5: [3], 6: [3], 7: [3], 8: [1], 9: [1], 10: [1], 11: [1]}, 3: {2: [5, 1], 3: [5, 1], 4: [3], 5: [3], 6: [3], 7: [3], 8: [1], 9: [1], 10: [1], 11: [1]}, 4: {2: [1], 3: [1], 4: [1], 5: [5, 1], 6: [5, 1], 7: [1], 8: [1], 9: [1], 10: [1], 11: [1]}, 6: {2: [5, 1], 3: [3], 4: [3], 5: [3], 6: [3], 7: [1], 8: [1], 9: [1], 10: [1], 11: [1]}, 7: {2: [3], 3: [3], 4: [3], 5: [3], 6: [3], 7: [3], 8: [1], 9: [1], 10: [1], 11: [1]}, 8: {2: [3], 3: [3], 4: [3], 5: [3], 6: [3], 7: [3], 8: [3], 9: [3], 10: [3], 11: [4, 3]}, 9: {2: [3], 3: [3], 4: [3], 5: [3], 6: [3], 7: [0], 8: [3], 9: [3], 10: [0], 11: [0]}, 11: {2: [3], 3: [3], 4: [3], 5: [3], 6: [3], 7: [3], 8: [3], 9: [3], 10: [3], 11: [3]}}\n"
     ]
    }
   ],
   "source": [
    "print(tables[\"hit_soft_17\"][\"split\"])"
   ]
  },
  {
   "cell_type": "code",
   "execution_count": null,
   "metadata": {},
   "outputs": [],
   "source": []
  }
 ],
 "metadata": {
  "kernelspec": {
   "display_name": "Python 3",
   "language": "python",
   "name": "python3"
  },
  "language_info": {
   "codemirror_mode": {
    "name": "ipython",
    "version": 3
   },
   "file_extension": ".py",
   "mimetype": "text/x-python",
   "name": "python",
   "nbconvert_exporter": "python",
   "pygments_lexer": "ipython3",
   "version": "3.7.6"
  }
 },
 "nbformat": 4,
 "nbformat_minor": 4
}
